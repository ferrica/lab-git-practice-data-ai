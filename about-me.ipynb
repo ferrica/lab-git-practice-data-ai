{
 "cells": [
  {
   "cell_type": "markdown",
   "metadata": {},
   "source": [
    "## About Me Lab: AI Engineering, Data Analytics & Data Science\n",
    "\n",
    "In this notebook, you'll write a short introduction about yourself using Python!\n",
    "\n",
    "### Instructions:\n",
    "- Fill in the variables below with your details.\n",
    "- Run the cell to print your introduction.\n",
    "\n",
    "### What to Include:\n",
    "- Your name.\n",
    "- Why you're interested in AI Engineering, Data Analytics or Data Science.\n",
    "- A fun fact about yourself or a goal for this course.\n"
   ]
  },
  {
   "cell_type": "code",
   "execution_count": 3,
   "metadata": {},
   "outputs": [
    {
     "name": "stdout",
     "output_type": "stream",
     "text": [
      "Hola! Me llamo Fernando. Tengo muchas ganas de aprender porque Quiero aprovechar la oportunidad de extraer información adicional sobre mi negocio y mis clientes basándome en información que ya recopilo pero que no exploto. Un dato curioso sobre mi: mi objetivo para este curso es... poder acabarlo !!! ;-) .\n"
     ]
    }
   ],
   "source": [
    "# About Me\n",
    "# Please fill in the following details.\n",
    "\n",
    "name = \"Fernando\"\n",
    "reason = \"Quiero aprovechar la oportunidad de extraer información adicional sobre mi negocio y mis clientes basándome en información que ya recopilo pero que no exploto\"\n",
    "fun_fact = \"mi objetivo para este curso es... poder acabarlo !!! ;-) \"\n",
    "\n",
    "print(f\"Hola! Me llamo {name}. Tengo muchas ganas de aprender porque {reason}. Un dato curioso sobre mi: {fun_fact}.\")"
   ]
  },
  {
   "cell_type": "code",
   "execution_count": null,
   "metadata": {},
   "outputs": [],
   "source": []
  }
 ],
 "metadata": {
  "kernelspec": {
   "display_name": "Python 3 (ipykernel)",
   "language": "python",
   "name": "python3"
  },
  "language_info": {
   "codemirror_mode": {
    "name": "ipython",
    "version": 3
   },
   "file_extension": ".py",
   "mimetype": "text/x-python",
   "name": "python",
   "nbconvert_exporter": "python",
   "pygments_lexer": "ipython3",
   "version": "3.12.8"
  }
 },
 "nbformat": 4,
 "nbformat_minor": 4
}
